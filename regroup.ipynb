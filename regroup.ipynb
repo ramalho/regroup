{
 "cells": [
  {
   "cell_type": "code",
   "execution_count": 1,
   "id": "5b54aad3",
   "metadata": {},
   "outputs": [],
   "source": [
    "from itertools import chain, cycle\n",
    "\n",
    "def regroup(n, groups):\n",
    "    \"\"\"Make n new groups from a list of groups.\"\"\"\n",
    "    result = tuple([] for _ in range(n))\n",
    "    for item, new_group in zip(chain(*groups), cycle(result)):\n",
    "        new_group.append(item)\n",
    "    return result"
   ]
  },
  {
   "cell_type": "code",
   "execution_count": 2,
   "id": "4616b5ff",
   "metadata": {},
   "outputs": [],
   "source": [
    "stakeholder = ['Stephanie', 'Stu']\n",
    "backend = 'Bo Brad Beth'.split()\n",
    "domain = 'Doris Doug'.split()\n",
    "frontend = 'Fran Felix Fatima'.split()"
   ]
  },
  {
   "cell_type": "code",
   "execution_count": 3,
   "id": "6ed48346",
   "metadata": {},
   "outputs": [
    {
     "data": {
      "text/plain": [
       "(['Stephanie', 'Bo', 'Felix'],\n",
       " ['Stu', 'Brad', 'Fatima'],\n",
       " ['Doris', 'Beth'],\n",
       " ['Doug', 'Fran'])"
      ]
     },
     "execution_count": 3,
     "metadata": {},
     "output_type": "execute_result"
    }
   ],
   "source": [
    "groups = regroup(4, [stakeholder, domain, backend, frontend])\n",
    "groups"
   ]
  },
  {
   "cell_type": "code",
   "execution_count": 4,
   "id": "8a5232e1",
   "metadata": {},
   "outputs": [],
   "source": [
    "from random import shuffle\n",
    "\n",
    "def shuffled(groups):\n",
    "    \"\"\"Make new list of groups, shuffled but not mixed.\"\"\"\n",
    "    groups = [list(group) for group in groups]  # copy args\n",
    "    for group in groups:\n",
    "        shuffle(group)  # shuffle items in each group\n",
    "    shuffle(groups)  # shuffle groups\n",
    "    return groups"
   ]
  },
  {
   "cell_type": "code",
   "execution_count": 5,
   "id": "fb9d938a",
   "metadata": {},
   "outputs": [
    {
     "name": "stdout",
     "output_type": "stream",
     "text": [
      "1 Beth, Doris, Fatima, Stephanie\n",
      "2 Brad, Fran, Stu\n",
      "3 Bo, Doug, Felix\n"
     ]
    }
   ],
   "source": [
    "groups = regroup(3, shuffled([backend, frontend, domain, stakeholder]))\n",
    "for i, group in enumerate(groups, 1):\n",
    "    print(i, ', '.join(sorted(group)))"
   ]
  }
 ],
 "metadata": {
  "kernelspec": {
   "display_name": "Python 3 (ipykernel)",
   "language": "python",
   "name": "python3"
  },
  "language_info": {
   "codemirror_mode": {
    "name": "ipython",
    "version": 3
   },
   "file_extension": ".py",
   "mimetype": "text/x-python",
   "name": "python",
   "nbconvert_exporter": "python",
   "pygments_lexer": "ipython3",
   "version": "3.10.2"
  }
 },
 "nbformat": 4,
 "nbformat_minor": 5
}
