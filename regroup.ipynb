{
 "cells": [
  {
   "cell_type": "code",
   "execution_count": 1,
   "id": "5b54aad3",
   "metadata": {},
   "outputs": [],
   "source": [
    "from random import shuffle\n",
    "\n",
    "def regroup(n, groups, mix=False):\n",
    "    \"\"\" Return n new groups built from given groups.\n",
    "        If mix is True, each input group is shuffled.\n",
    "    \"\"\"\n",
    "    groups = [list(group) for group in groups]  # copy args\n",
    "    if mix:\n",
    "        shuffle(groups)\n",
    "        for group in groups:\n",
    "            shuffle(group)\n",
    "    result = tuple([] for _ in range(n))\n",
    "    i = 0\n",
    "    for group in groups:\n",
    "        for item in group:\n",
    "            result[i].append(item)\n",
    "            i = (i + 1) % n\n",
    "    return result    "
   ]
  },
  {
   "cell_type": "code",
   "execution_count": 2,
   "id": "4616b5ff",
   "metadata": {},
   "outputs": [],
   "source": [
    "stakeholder = ['Stephanie', 'Stu Smith']\n",
    "backend = 'Bo Brad Beth'.split()\n",
    "domain = 'Doris Doug'.split()\n",
    "frontend = 'Fran Fred Felix Fatima'.split()"
   ]
  },
  {
   "cell_type": "code",
   "execution_count": 3,
   "id": "6ed48346",
   "metadata": {},
   "outputs": [
    {
     "data": {
      "text/plain": [
       "(['Bo', 'Fred', 'Doug'],\n",
       " ['Brad', 'Felix', 'Stephanie'],\n",
       " ['Beth', 'Fatima', 'Stu Smith'],\n",
       " ['Fran', 'Doris'])"
      ]
     },
     "execution_count": 3,
     "metadata": {},
     "output_type": "execute_result"
    }
   ],
   "source": [
    "groups = regroup(4, [backend, frontend, domain, stakeholder])\n",
    "groups"
   ]
  },
  {
   "cell_type": "code",
   "execution_count": 4,
   "id": "fb9d938a",
   "metadata": {},
   "outputs": [
    {
     "name": "stdout",
     "output_type": "stream",
     "text": [
      "1 Brad, Doug, Fatima, Fred\n",
      "2 Beth, Doris, Felix, Stu Smith\n",
      "3 Bo, Fran, Stephanie\n"
     ]
    }
   ],
   "source": [
    "groups = regroup(3, [backend, frontend, domain, stakeholder], True)\n",
    "for i, group in enumerate(groups, 1):\n",
    "    print(i, ', '.join(sorted(group)))"
   ]
  },
  {
   "cell_type": "code",
   "execution_count": null,
   "id": "b4a73209",
   "metadata": {},
   "outputs": [],
   "source": []
  }
 ],
 "metadata": {
  "kernelspec": {
   "display_name": "Python 3 (ipykernel)",
   "language": "python",
   "name": "python3"
  },
  "language_info": {
   "codemirror_mode": {
    "name": "ipython",
    "version": 3
   },
   "file_extension": ".py",
   "mimetype": "text/x-python",
   "name": "python",
   "nbconvert_exporter": "python",
   "pygments_lexer": "ipython3",
   "version": "3.10.2"
  }
 },
 "nbformat": 4,
 "nbformat_minor": 5
}
